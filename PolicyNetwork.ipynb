{
  "nbformat": 4,
  "nbformat_minor": 0,
  "metadata": {
    "colab": {
      "name": "PolicyNetwork.ipynb",
      "provenance": [],
      "authorship_tag": "ABX9TyOQNxYk8EVx9SJdvlKCZfo4",
      "include_colab_link": true
    },
    "kernelspec": {
      "name": "python3",
      "display_name": "Python 3"
    },
    "language_info": {
      "name": "python"
    }
  },
  "cells": [
    {
      "cell_type": "markdown",
      "metadata": {
        "id": "view-in-github",
        "colab_type": "text"
      },
      "source": [
        "<a href=\"https://colab.research.google.com/github/RefiloeShabe/Reinforcement-Learning/blob/main/PolicyNetwork.ipynb\" target=\"_parent\"><img src=\"https://colab.research.google.com/assets/colab-badge.svg\" alt=\"Open In Colab\"/></a>"
      ]
    },
    {
      "cell_type": "code",
      "execution_count": 2,
      "metadata": {
        "id": "y5nsyIBk3k15"
      },
      "outputs": [],
      "source": [
        "import tensorflow.keras as keras\n",
        "from tensorflow.keras.layers import Dense"
      ]
    },
    {
      "cell_type": "code",
      "source": [
        "class PolicyGradientNetwork(keras.Model):\n",
        "  def __init__(self, n_actions, fc1_dims = 256, fc2_dims = 256):\n",
        "    super(PolicyGradientNetwork, self).__init__()\n",
        "    self.fc1_dims = fc1_dims\n",
        "    self.fc2_dims = fc2_dims\n",
        "    self.n_actions = n_actions\n",
        "\n",
        "    self.fc1_dims = Dense(self.fc1_dims, activation = \"relu\")\n",
        "    self.fc2_dims = Dense(self.fc2_dims, activation = \"relu\")\n",
        "    self.pi = Dense(self.n_actions, activation = \"softmax\")\n",
        "\n",
        "  def call(self, state):\n",
        "    value = self.fc1(state)\n",
        "    value = self.fc2(value)\n",
        "\n",
        "    pi = self.pi(value)\n",
        "\n",
        "    return pi"
      ],
      "metadata": {
        "id": "G5Jb7H_qMtR7"
      },
      "execution_count": 3,
      "outputs": []
    },
    {
      "cell_type": "code",
      "source": [
        ""
      ],
      "metadata": {
        "id": "NcUcfojZOnGM"
      },
      "execution_count": null,
      "outputs": []
    }
  ]
}