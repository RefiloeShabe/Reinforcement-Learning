{
  "nbformat": 4,
  "nbformat_minor": 0,
  "metadata": {
    "colab": {
      "name": "main.ipynb",
      "provenance": []
    },
    "kernelspec": {
      "name": "python3",
      "display_name": "Python 3"
    },
    "language_info": {
      "name": "python"
    }
  },
  "cells": [
    {
      "cell_type": "code",
      "execution_count": null,
      "metadata": {
        "id": "BGBaPFR_WTA8"
      },
      "outputs": [],
      "source": [
        "import gym\n",
        "import numpy as np\n",
        "from reinforce_tf2 import Agent\n",
        "from utils import plotLearning"
      ]
    },
    {
      "cell_type": "code",
      "source": [
        "if __name__ == '__main__':\n",
        "  agent = Agent(alpha = 0.0005, gamma = 0.99, n_actions = 4)\n",
        "  env = gym.make('LunarLander-v2')\n",
        "\n",
        "  score_history = []\n",
        "\n",
        "  n_episodes = 2000\n",
        "\n",
        "  for i in range(n_episodes):\n",
        "    done = False\n",
        "    score = 0\n",
        "    observation = env.reset()\n",
        "\n",
        "    while not done:\n",
        "      action = agent.choose_action(observation)\n",
        "      observation_, reward, done, info = env.step(action)\n",
        "      observation = observation_\n",
        "      score += reward\n",
        "    score_history.append(score)\n",
        "\n",
        "    agent.learn()\n",
        "\n",
        "    avg_score = np.mean(score_histore[-100:])\n",
        "    print('episode ', i, 'score %.1f' %score, 'avg score %.1f' % avg_score)\n",
        "\n",
        "  filename = 'lunar_lander.png'\n",
        "  plotLearning(score_history, filename = filename, window = 100)"
      ],
      "metadata": {
        "id": "L46Y7iSRWjqg"
      },
      "execution_count": null,
      "outputs": []
    }
  ]
}